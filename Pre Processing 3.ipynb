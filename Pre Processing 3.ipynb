{
 "cells": [
  {
   "cell_type": "code",
   "execution_count": null,
   "id": "57bf31ee-1ee4-483c-bd19-a836e1a36455",
   "metadata": {},
   "outputs": [],
   "source": [
    "import pandas as pd\n",
    "import ast\n",
    "import string\n",
    "from nltk.corpus import stopwords\n",
    "from nltk import pos_tag\n",
    "import nltk\n",
    "\n",
    "nltk.download('punkt')\n",
    "nltk.download('averaged_perceptron_tagger')\n",
    "nltk.download('stopwords')\n",
    "\n",
    "df = pd.read_csv(\"DisneylandReviews_Cleaned_with_Sentiment.csv\")\n",
    "df['top_5_words'] = df['top_5_words'].apply(ast.literal_eval)\n",
    "\n",
    "def extract_keywords(row):\n",
    "    clean_words = [\n",
    "        word.lower() for word in row\n",
    "        if word.lower() not in stopwords.words('english') and word not in string.punctuation\n",
    "    ]\n",
    "    tagged = pos_tag(clean_words)\n",
    "    return [word for word, tag in tagged if tag.startswith('JJ') or tag.startswith('RB') or tag.startswith('NN')]\n",
    "\n",
    "df['sentiment_keywords'] = df['top_5_words'].apply(extract_keywords)\n",
    "df.to_csv(\"DisneylandReviews_With_Sentiment_Keywords.csv\", index=False)\n",
    "from collections import Counter\n",
    "\n",
    "def extract_keywords_by_sentiment(sentiment_label):\n",
    "    words = []\n",
    "    for row in df[df['Sentiment'] == sentiment_label]['top_5_words']:\n",
    "        filtered_words = [\n",
    "            word.lower() for word in row\n",
    "            if word.lower() not in stopwords.words('english') and word not in string.punctuation\n",
    "        ]\n",
    "        tagged = pos_tag(filtered_words)\n",
    "        opinion_words = [word for word, tag in tagged if tag.startswith('JJ') or tag.startswith('RB')]\n",
    "        words.extend(opinion_words)\n",
    "    return Counter(words).most_common(10)\n",
    "\n",
    "positive_keywords = extract_keywords_by_sentiment(\"Positive\")\n",
    "negative_keywords = extract_keywords_by_sentiment(\"Negative\")\n",
    "neutral_keywords = extract_keywords_by_sentiment(\"Neutral\")\n",
    "mixed_keywords = extract_keywords_by_sentiment(\"Mixed\")"
   ]
  }
 ],
 "metadata": {
  "kernelspec": {
   "display_name": "Python 3 (ipykernel)",
   "language": "python",
   "name": "python3"
  },
  "language_info": {
   "codemirror_mode": {
    "name": "ipython",
    "version": 3
   },
   "file_extension": ".py",
   "mimetype": "text/x-python",
   "name": "python",
   "nbconvert_exporter": "python",
   "pygments_lexer": "ipython3",
   "version": "3.11.5"
  }
 },
 "nbformat": 4,
 "nbformat_minor": 5
}
